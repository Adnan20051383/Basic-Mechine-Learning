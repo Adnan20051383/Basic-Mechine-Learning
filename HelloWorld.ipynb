{
 "cells": [
  {
   "cell_type": "code",
   "execution_count": 674,
   "id": "3a712613-6e51-4ab9-848b-fa1f9fce11d9",
   "metadata": {},
   "outputs": [],
   "source": [
    "import pandas as pd\n",
    "from sklearn.tree import DecisionTreeClassifier\n",
    "from sklearn.model_selection import train_test_split\n",
    "from sklearn.metrics import accuracy_score\n",
    "import joblib\n",
    "from sklearn import tree\n",
    "data_frame = pd.read_csv(\"music.csv\")\n",
    "input_data = data_frame.drop(columns=[\"genre\"])\n",
    "output_data = data_frame[\"genre\"]\n",
    "model = DecisionTreeClassifier()\n",
    "model.fit(input_data, output_data)\n",
    "tree.export_graphviz(model, out_file='musics.dot',\n",
    "                     feature_names=['age', 'gender'],\n",
    "                     label='all',\n",
    "                     rounded=True,\n",
    "                     filled=True,\n",
    "                     class_names=sorted(output_data.unique()))"
   ]
  }
 ],
 "metadata": {
  "kernelspec": {
   "display_name": "Python 3 (ipykernel)",
   "language": "python",
   "name": "python3"
  },
  "language_info": {
   "codemirror_mode": {
    "name": "ipython",
    "version": 3
   },
   "file_extension": ".py",
   "mimetype": "text/x-python",
   "name": "python",
   "nbconvert_exporter": "python",
   "pygments_lexer": "ipython3",
   "version": "3.12.4"
  }
 },
 "nbformat": 4,
 "nbformat_minor": 5
}
